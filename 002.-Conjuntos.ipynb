{
 "cells": [
  {
   "cell_type": "code",
   "id": "initial_id",
   "metadata": {
    "collapsed": true,
    "ExecuteTime": {
     "end_time": "2025-03-10T23:51:19.658240Z",
     "start_time": "2025-03-10T23:51:19.649134Z"
    }
   },
   "source": [
    "import sympy as sp\n",
    "from pkg.logica.functions import print_truth_table, print_latex\n",
    "from sympy.abc import *"
   ],
   "outputs": [],
   "execution_count": 86
  },
  {
   "metadata": {},
   "cell_type": "markdown",
   "source": "# Conjuntos",
   "id": "85215c81cc9c0ac6"
  },
  {
   "metadata": {
    "ExecuteTime": {
     "end_time": "2025-03-10T23:51:19.674534Z",
     "start_time": "2025-03-10T23:51:19.662730Z"
    }
   },
   "cell_type": "code",
   "source": [
    "A = sp.FiniteSet(1, 2, 3, 4)\n",
    "print_latex(A)\n",
    "print_latex(sp.PowerSet(A).rewrite(sp.FiniteSet))"
   ],
   "id": "79c0170a6fb1969e",
   "outputs": [
    {
     "data": {
      "text/plain": [
       "<IPython.core.display.Latex object>"
      ],
      "text/latex": "$$\\Huge \\left\\{1, 2, 3, 4\\right\\}$$"
     },
     "metadata": {},
     "output_type": "display_data"
    },
    {
     "data": {
      "text/plain": [
       "<IPython.core.display.Latex object>"
      ],
      "text/latex": "$$\\Huge \\left\\{\\emptyset, \\left\\{1\\right\\}, \\left\\{2\\right\\}, \\left\\{3\\right\\}, \\left\\{4\\right\\}, \\left\\{1, 2\\right\\}, \\left\\{1, 3\\right\\}, \\left\\{1, 4\\right\\}, \\left\\{2, 3\\right\\}, \\left\\{2, 4\\right\\}, \\left\\{3, 4\\right\\}, \\left\\{1, 2, 3\\right\\}, \\left\\{1, 2, 4\\right\\}, \\left\\{1, 3, 4\\right\\}, \\left\\{2, 3, 4\\right\\}, \\left\\{1, 2, 3, 4\\right\\}\\right\\}$$"
     },
     "metadata": {},
     "output_type": "display_data"
    }
   ],
   "execution_count": 87
  },
  {
   "metadata": {
    "ExecuteTime": {
     "end_time": "2025-03-10T23:51:19.728700Z",
     "start_time": "2025-03-10T23:51:19.697036Z"
    }
   },
   "cell_type": "code",
   "source": [
    "sin_sols = sp.ConditionSet(x, sp.Eq(sp.sin(x), 0), sp.Interval(0, 2 * sp.pi))\n",
    "print_latex(sin_sols)\n",
    "print_latex(2 * sp.pi in sin_sols)\n",
    "print_latex(3 * sp.pi in sin_sols)\n",
    "print_latex(sp.Not(sin_sols).simplify())"
   ],
   "id": "1accb54aaa450942",
   "outputs": [
    {
     "data": {
      "text/plain": [
       "<IPython.core.display.Latex object>"
      ],
      "text/latex": "$$\\Huge \\left\\{x\\; \\middle|\\; x \\in \\left[0, 2 \\pi\\right] \\wedge \\sin{\\left(x \\right)} = 0 \\right\\}$$"
     },
     "metadata": {},
     "output_type": "display_data"
    },
    {
     "data": {
      "text/plain": [
       "<IPython.core.display.Latex object>"
      ],
      "text/latex": "$$\\Huge \\text{True}$$"
     },
     "metadata": {},
     "output_type": "display_data"
    },
    {
     "data": {
      "text/plain": [
       "<IPython.core.display.Latex object>"
      ],
      "text/latex": "$$\\Huge \\text{False}$$"
     },
     "metadata": {},
     "output_type": "display_data"
    },
    {
     "data": {
      "text/plain": [
       "<IPython.core.display.Latex object>"
      ],
      "text/latex": "$$\\Huge \\neg \\left\\{x\\; \\middle|\\; x \\in \\left[0, 2 \\pi\\right] \\wedge \\sin{\\left(x \\right)} = 0 \\right\\}$$"
     },
     "metadata": {},
     "output_type": "display_data"
    }
   ],
   "execution_count": 88
  }
 ],
 "metadata": {
  "kernelspec": {
   "display_name": "Python 3",
   "language": "python",
   "name": "python3"
  },
  "language_info": {
   "codemirror_mode": {
    "name": "ipython",
    "version": 2
   },
   "file_extension": ".py",
   "mimetype": "text/x-python",
   "name": "python",
   "nbconvert_exporter": "python",
   "pygments_lexer": "ipython2",
   "version": "2.7.6"
  }
 },
 "nbformat": 4,
 "nbformat_minor": 5
}
