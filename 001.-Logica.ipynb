{
 "cells": [
  {
   "cell_type": "code",
   "id": "initial_id",
   "metadata": {
    "collapsed": true,
    "ExecuteTime": {
     "end_time": "2025-03-10T23:06:14.084425Z",
     "start_time": "2025-03-10T23:06:14.079751Z"
    }
   },
   "source": [
    "import sympy as sp\n",
    "from pkg.logica.functions import print_truth_table, print_latex"
   ],
   "outputs": [],
   "execution_count": 19
  },
  {
   "metadata": {},
   "cell_type": "markdown",
   "source": "# Logica",
   "id": "c1daa1255928a13b"
  },
  {
   "metadata": {
    "ExecuteTime": {
     "end_time": "2025-03-10T23:06:14.097364Z",
     "start_time": "2025-03-10T23:06:14.095078Z"
    }
   },
   "cell_type": "code",
   "source": "P, Q, R, S, T = sp.symbols(\"P Q R S T\")",
   "id": "a8393a59788f94d9",
   "outputs": [],
   "execution_count": 20
  },
  {
   "metadata": {
    "ExecuteTime": {
     "end_time": "2025-03-10T23:06:14.114736Z",
     "start_time": "2025-03-10T23:06:14.104724Z"
    }
   },
   "cell_type": "code",
   "source": [
    "expr = sp.Not(P)\n",
    "print_truth_table(expr, [P])"
   ],
   "id": "8e8f52d53d038613",
   "outputs": [
    {
     "data": {
      "text/plain": [
       "<IPython.core.display.Latex object>"
      ],
      "text/latex": "$$\\large P(False) \\Rightarrow \\neg P(\\text{True})$$"
     },
     "metadata": {},
     "output_type": "display_data"
    },
    {
     "data": {
      "text/plain": [
       "<IPython.core.display.Latex object>"
      ],
      "text/latex": "$$\\large P(True) \\Rightarrow \\neg P(\\text{False})$$"
     },
     "metadata": {},
     "output_type": "display_data"
    }
   ],
   "execution_count": 21
  },
  {
   "metadata": {
    "ExecuteTime": {
     "end_time": "2025-03-10T23:06:14.143339Z",
     "start_time": "2025-03-10T23:06:14.137736Z"
    }
   },
   "cell_type": "code",
   "source": [
    "expr = P & Q\n",
    "print_truth_table(expr, [P, Q])"
   ],
   "id": "5cff8a07bce9764a",
   "outputs": [
    {
     "data": {
      "text/plain": [
       "<IPython.core.display.Latex object>"
      ],
      "text/latex": "$$\\large P,Q(False,False) \\Rightarrow P \\wedge Q(\\text{False})$$"
     },
     "metadata": {},
     "output_type": "display_data"
    },
    {
     "data": {
      "text/plain": [
       "<IPython.core.display.Latex object>"
      ],
      "text/latex": "$$\\large P,Q(False,True) \\Rightarrow P \\wedge Q(\\text{False})$$"
     },
     "metadata": {},
     "output_type": "display_data"
    },
    {
     "data": {
      "text/plain": [
       "<IPython.core.display.Latex object>"
      ],
      "text/latex": "$$\\large P,Q(True,False) \\Rightarrow P \\wedge Q(\\text{False})$$"
     },
     "metadata": {},
     "output_type": "display_data"
    },
    {
     "data": {
      "text/plain": [
       "<IPython.core.display.Latex object>"
      ],
      "text/latex": "$$\\large P,Q(True,True) \\Rightarrow P \\wedge Q(\\text{True})$$"
     },
     "metadata": {},
     "output_type": "display_data"
    }
   ],
   "execution_count": 22
  },
  {
   "metadata": {
    "ExecuteTime": {
     "end_time": "2025-03-10T23:06:14.159522Z",
     "start_time": "2025-03-10T23:06:14.153508Z"
    }
   },
   "cell_type": "code",
   "source": [
    "expr = P | Q\n",
    "print_truth_table(expr, [P, Q])"
   ],
   "id": "2bd5a90ea334d7d",
   "outputs": [
    {
     "data": {
      "text/plain": [
       "<IPython.core.display.Latex object>"
      ],
      "text/latex": "$$\\large P,Q(False,False) \\Rightarrow P \\vee Q(\\text{False})$$"
     },
     "metadata": {},
     "output_type": "display_data"
    },
    {
     "data": {
      "text/plain": [
       "<IPython.core.display.Latex object>"
      ],
      "text/latex": "$$\\large P,Q(False,True) \\Rightarrow P \\vee Q(\\text{True})$$"
     },
     "metadata": {},
     "output_type": "display_data"
    },
    {
     "data": {
      "text/plain": [
       "<IPython.core.display.Latex object>"
      ],
      "text/latex": "$$\\large P,Q(True,False) \\Rightarrow P \\vee Q(\\text{True})$$"
     },
     "metadata": {},
     "output_type": "display_data"
    },
    {
     "data": {
      "text/plain": [
       "<IPython.core.display.Latex object>"
      ],
      "text/latex": "$$\\large P,Q(True,True) \\Rightarrow P \\vee Q(\\text{True})$$"
     },
     "metadata": {},
     "output_type": "display_data"
    }
   ],
   "execution_count": 23
  },
  {
   "metadata": {
    "ExecuteTime": {
     "end_time": "2025-03-10T23:06:14.222963Z",
     "start_time": "2025-03-10T23:06:14.218496Z"
    }
   },
   "cell_type": "code",
   "source": [
    "expr = P >> Q\n",
    "print_truth_table(expr, [P, Q])"
   ],
   "id": "369d2a6aaae1a659",
   "outputs": [
    {
     "data": {
      "text/plain": [
       "<IPython.core.display.Latex object>"
      ],
      "text/latex": "$$\\large P,Q(False,False) \\Rightarrow P \\Rightarrow Q(\\text{True})$$"
     },
     "metadata": {},
     "output_type": "display_data"
    },
    {
     "data": {
      "text/plain": [
       "<IPython.core.display.Latex object>"
      ],
      "text/latex": "$$\\large P,Q(False,True) \\Rightarrow P \\Rightarrow Q(\\text{True})$$"
     },
     "metadata": {},
     "output_type": "display_data"
    },
    {
     "data": {
      "text/plain": [
       "<IPython.core.display.Latex object>"
      ],
      "text/latex": "$$\\large P,Q(True,False) \\Rightarrow P \\Rightarrow Q(\\text{False})$$"
     },
     "metadata": {},
     "output_type": "display_data"
    },
    {
     "data": {
      "text/plain": [
       "<IPython.core.display.Latex object>"
      ],
      "text/latex": "$$\\large P,Q(True,True) \\Rightarrow P \\Rightarrow Q(\\text{True})$$"
     },
     "metadata": {},
     "output_type": "display_data"
    }
   ],
   "execution_count": 24
  },
  {
   "metadata": {
    "ExecuteTime": {
     "end_time": "2025-03-10T23:06:14.257968Z",
     "start_time": "2025-03-10T23:06:14.248965Z"
    }
   },
   "cell_type": "code",
   "source": [
    "expr = P >> ((sp.Not(Q) >> P) & (Q | sp.Not(P)))\n",
    "print_latex(expr)\n",
    "print_truth_table(expr.simplify(), [P, Q])"
   ],
   "id": "e7452475742fc933",
   "outputs": [
    {
     "data": {
      "text/plain": [
       "<IPython.core.display.Latex object>"
      ],
      "text/latex": "$$\\Huge P \\Rightarrow \\left(\\left(\\neg Q \\Rightarrow P\\right) \\wedge \\left(Q \\vee \\neg P\\right)\\right)$$"
     },
     "metadata": {},
     "output_type": "display_data"
    },
    {
     "data": {
      "text/plain": [
       "<IPython.core.display.Latex object>"
      ],
      "text/latex": "$$\\large P,Q(False,False) \\Rightarrow Q \\vee \\neg P(\\text{True})$$"
     },
     "metadata": {},
     "output_type": "display_data"
    },
    {
     "data": {
      "text/plain": [
       "<IPython.core.display.Latex object>"
      ],
      "text/latex": "$$\\large P,Q(False,True) \\Rightarrow Q \\vee \\neg P(\\text{True})$$"
     },
     "metadata": {},
     "output_type": "display_data"
    },
    {
     "data": {
      "text/plain": [
       "<IPython.core.display.Latex object>"
      ],
      "text/latex": "$$\\large P,Q(True,False) \\Rightarrow Q \\vee \\neg P(\\text{False})$$"
     },
     "metadata": {},
     "output_type": "display_data"
    },
    {
     "data": {
      "text/plain": [
       "<IPython.core.display.Latex object>"
      ],
      "text/latex": "$$\\large P,Q(True,True) \\Rightarrow Q \\vee \\neg P(\\text{True})$$"
     },
     "metadata": {},
     "output_type": "display_data"
    }
   ],
   "execution_count": 25
  },
  {
   "metadata": {
    "ExecuteTime": {
     "end_time": "2025-03-10T23:06:14.280861Z",
     "start_time": "2025-03-10T23:06:14.273444Z"
    }
   },
   "cell_type": "code",
   "source": [
    "expr = P << Q & P >> Q\n",
    "print_latex(expr)\n",
    "print_truth_table(expr.simplify(), [P, Q])"
   ],
   "id": "7d8c56620a0681ad",
   "outputs": [
    {
     "data": {
      "text/plain": [
       "<IPython.core.display.Latex object>"
      ],
      "text/latex": "$$\\Huge \\left(P \\Rightarrow Q\\right) \\wedge \\left(Q \\Rightarrow P\\right)$$"
     },
     "metadata": {},
     "output_type": "display_data"
    },
    {
     "data": {
      "text/plain": [
       "<IPython.core.display.Latex object>"
      ],
      "text/latex": "$$\\large P,Q(False,False) \\Rightarrow \\left(P \\wedge Q\\right) \\vee \\left(\\neg P \\wedge \\neg Q\\right)(\\text{True})$$"
     },
     "metadata": {},
     "output_type": "display_data"
    },
    {
     "data": {
      "text/plain": [
       "<IPython.core.display.Latex object>"
      ],
      "text/latex": "$$\\large P,Q(False,True) \\Rightarrow \\left(P \\wedge Q\\right) \\vee \\left(\\neg P \\wedge \\neg Q\\right)(\\text{False})$$"
     },
     "metadata": {},
     "output_type": "display_data"
    },
    {
     "data": {
      "text/plain": [
       "<IPython.core.display.Latex object>"
      ],
      "text/latex": "$$\\large P,Q(True,False) \\Rightarrow \\left(P \\wedge Q\\right) \\vee \\left(\\neg P \\wedge \\neg Q\\right)(\\text{False})$$"
     },
     "metadata": {},
     "output_type": "display_data"
    },
    {
     "data": {
      "text/plain": [
       "<IPython.core.display.Latex object>"
      ],
      "text/latex": "$$\\large P,Q(True,True) \\Rightarrow \\left(P \\wedge Q\\right) \\vee \\left(\\neg P \\wedge \\neg Q\\right)(\\text{True})$$"
     },
     "metadata": {},
     "output_type": "display_data"
    }
   ],
   "execution_count": 26
  },
  {
   "metadata": {
    "ExecuteTime": {
     "end_time": "2025-03-10T23:06:14.362214Z",
     "start_time": "2025-03-10T23:06:14.354926Z"
    }
   },
   "cell_type": "code",
   "source": [
    "noNotP = sp.Not(sp.Not(P))\n",
    "expr = (P >> sp.Not(Q)) >> (noNotP >> Q & noNotP << Q)\n",
    "print_latex(expr)\n",
    "print_latex(expr.simplify())"
   ],
   "id": "489ab43059d39b53",
   "outputs": [
    {
     "data": {
      "text/plain": [
       "<IPython.core.display.Latex object>"
      ],
      "text/latex": "$$\\Huge \\left(P \\Rightarrow \\neg Q\\right) \\Rightarrow \\left(\\left(P \\Rightarrow Q\\right) \\wedge \\left(Q \\Rightarrow P\\right)\\right)$$"
     },
     "metadata": {},
     "output_type": "display_data"
    },
    {
     "data": {
      "text/plain": [
       "<IPython.core.display.Latex object>"
      ],
      "text/latex": "$$\\Huge \\left(P \\wedge Q\\right) \\vee \\left(\\neg P \\wedge \\neg Q\\right)$$"
     },
     "metadata": {},
     "output_type": "display_data"
    }
   ],
   "execution_count": 27
  },
  {
   "metadata": {
    "ExecuteTime": {
     "end_time": "2025-03-10T23:06:14.387124Z",
     "start_time": "2025-03-10T23:06:14.381974Z"
    }
   },
   "cell_type": "code",
   "source": [
    "expr = (((P >> Q) >> R) >> S) >> T\n",
    "print_latex(expr)\n",
    "print_latex(expr.simplify())"
   ],
   "id": "bea75d8c28cd1c2b",
   "outputs": [
    {
     "data": {
      "text/plain": [
       "<IPython.core.display.Latex object>"
      ],
      "text/latex": "$$\\Huge \\left(\\left(\\left(P \\Rightarrow Q\\right) \\Rightarrow R\\right) \\Rightarrow S\\right) \\Rightarrow T$$"
     },
     "metadata": {},
     "output_type": "display_data"
    },
    {
     "data": {
      "text/plain": [
       "<IPython.core.display.Latex object>"
      ],
      "text/latex": "$$\\Huge T \\vee \\left(R \\wedge \\neg S\\right) \\vee \\left(P \\wedge \\neg Q \\wedge \\neg S\\right)$$"
     },
     "metadata": {},
     "output_type": "display_data"
    }
   ],
   "execution_count": 28
  },
  {
   "metadata": {
    "ExecuteTime": {
     "end_time": "2025-03-10T23:06:14.422467Z",
     "start_time": "2025-03-10T23:06:14.417650Z"
    }
   },
   "cell_type": "code",
   "source": [
    "expr = (P >> (sp.Not(Q) >> R)) >> Q\n",
    "print_latex(expr)\n",
    "print_latex(expr.simplify())"
   ],
   "id": "92cbfae99eaf593",
   "outputs": [
    {
     "data": {
      "text/plain": [
       "<IPython.core.display.Latex object>"
      ],
      "text/latex": "$$\\Huge \\left(P \\Rightarrow \\left(\\neg Q \\Rightarrow R\\right)\\right) \\Rightarrow Q$$"
     },
     "metadata": {},
     "output_type": "display_data"
    },
    {
     "data": {
      "text/plain": [
       "<IPython.core.display.Latex object>"
      ],
      "text/latex": "$$\\Huge Q \\vee \\left(P \\wedge \\neg R\\right)$$"
     },
     "metadata": {},
     "output_type": "display_data"
    }
   ],
   "execution_count": 29
  },
  {
   "metadata": {
    "ExecuteTime": {
     "end_time": "2025-03-10T23:06:14.450215Z",
     "start_time": "2025-03-10T23:06:14.445234Z"
    }
   },
   "cell_type": "code",
   "source": [
    "expr = ((P >> Q >> R) & Q) | (sp.Not(P | Q))\n",
    "print_latex(expr)\n",
    "print_latex(expr.simplify())"
   ],
   "id": "8902514e0c7b815d",
   "outputs": [
    {
     "data": {
      "text/plain": [
       "<IPython.core.display.Latex object>"
      ],
      "text/latex": "$$\\Huge \\left(Q \\wedge \\left(\\left(P \\Rightarrow Q\\right) \\Rightarrow R\\right)\\right) \\vee \\neg \\left(P \\vee Q\\right)$$"
     },
     "metadata": {},
     "output_type": "display_data"
    },
    {
     "data": {
      "text/plain": [
       "<IPython.core.display.Latex object>"
      ],
      "text/latex": "$$\\Huge \\left(Q \\wedge R\\right) \\vee \\left(\\neg P \\wedge \\neg Q\\right)$$"
     },
     "metadata": {},
     "output_type": "display_data"
    }
   ],
   "execution_count": 30
  },
  {
   "metadata": {
    "ExecuteTime": {
     "end_time": "2025-03-10T23:13:11.240487Z",
     "start_time": "2025-03-10T23:13:11.231256Z"
    }
   },
   "cell_type": "code",
   "source": [
    "expr_left = sp.Not(P) | Q\n",
    "expr_middle = (P & Q) | (P & R)\n",
    "expr_right = expr_middle >> (S | sp.Not(P))\n",
    "expr = expr_left >> expr_right & expr_right >> expr_left\n",
    "print_latex(expr)\n",
    "print_latex(expr.simplify())"
   ],
   "id": "6148eb1dd91b61a6",
   "outputs": [
    {
     "data": {
      "text/plain": [
       "<IPython.core.display.Latex object>"
      ],
      "text/latex": "$$\\Huge \\left(\\left(\\left(\\left(P \\wedge Q\\right) \\vee \\left(P \\wedge R\\right)\\right) \\Rightarrow \\left(S \\vee \\neg P\\right)\\right) \\Rightarrow \\left(Q \\vee \\neg P\\right)\\right) \\wedge \\left(\\left(Q \\vee \\neg P\\right) \\Rightarrow \\left(\\left(\\left(P \\wedge Q\\right) \\vee \\left(P \\wedge R\\right)\\right) \\Rightarrow \\left(S \\vee \\neg P\\right)\\right)\\right)$$"
     },
     "metadata": {},
     "output_type": "display_data"
    },
    {
     "data": {
      "text/plain": [
       "<IPython.core.display.Latex object>"
      ],
      "text/latex": "$$\\Huge \\left(Q \\wedge S\\right) \\vee \\left(R \\wedge \\neg Q \\wedge \\neg S\\right) \\vee \\neg P$$"
     },
     "metadata": {},
     "output_type": "display_data"
    }
   ],
   "execution_count": 33
  }
 ],
 "metadata": {
  "kernelspec": {
   "display_name": "Python 3",
   "language": "python",
   "name": "python3"
  },
  "language_info": {
   "codemirror_mode": {
    "name": "ipython",
    "version": 2
   },
   "file_extension": ".py",
   "mimetype": "text/x-python",
   "name": "python",
   "nbconvert_exporter": "python",
   "pygments_lexer": "ipython2",
   "version": "2.7.6"
  }
 },
 "nbformat": 4,
 "nbformat_minor": 5
}
