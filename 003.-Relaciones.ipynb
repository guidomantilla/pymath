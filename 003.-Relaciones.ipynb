{
 "cells": [
  {
   "cell_type": "code",
   "id": "initial_id",
   "metadata": {
    "collapsed": true,
    "ExecuteTime": {
     "end_time": "2025-03-11T04:22:04.864562Z",
     "start_time": "2025-03-11T04:22:04.586134Z"
    }
   },
   "source": [
    "import sympy as sp\n",
    "from pkg.logica.functions import print_truth_table, print_latex\n",
    "from pkg.relaciones.functions import transitive\n",
    "from sympy.abc import *"
   ],
   "outputs": [],
   "execution_count": 1
  },
  {
   "metadata": {},
   "cell_type": "markdown",
   "source": "# Desigualdades",
   "id": "f9c1e7474f683574"
  },
  {
   "metadata": {},
   "cell_type": "markdown",
   "source": [
    "### Transitividad\n",
    "Probar que si a > b y b > c, entonces a > c\n",
    "\n",
    "Hipotesis:\n",
    "   - a > b => a - b > 0\n",
    "   - b > c => b - c > 0\n",
    "   - Si sumo ambas expresiones, la suma debe ser mayor que cero"
   ],
   "id": "3808f08435c6637c"
  },
  {
   "metadata": {
    "ExecuteTime": {
     "end_time": "2025-03-11T04:22:05.009427Z",
     "start_time": "2025-03-11T04:22:04.868756Z"
    }
   },
   "cell_type": "code",
   "source": [
    "P = sp.Rel(a, b, \">\")\n",
    "Q = sp.Rel(b, c, \">\")\n",
    "R = sp.Rel(a, c, \">\")\n",
    "print_latex((P & Q) >> R)\n",
    "\n",
    "suma = transitive(P, Q, latex=True)\n",
    "print_latex(suma.simplify().equals(R))"
   ],
   "id": "a61e608a6baa6de",
   "outputs": [
    {
     "data": {
      "text/plain": [
       "<IPython.core.display.Latex object>"
      ],
      "text/latex": "$$\\Huge \\left(a > b \\wedge b > c\\right) \\Rightarrow a > c$$"
     },
     "metadata": {},
     "output_type": "display_data"
    },
    {
     "data": {
      "text/plain": [
       "<IPython.core.display.Latex object>"
      ],
      "text/latex": "$$\\Huge a - b > 0$$"
     },
     "metadata": {},
     "output_type": "display_data"
    },
    {
     "data": {
      "text/plain": [
       "<IPython.core.display.Latex object>"
      ],
      "text/latex": "$$\\Huge b - c > 0$$"
     },
     "metadata": {},
     "output_type": "display_data"
    },
    {
     "data": {
      "text/plain": [
       "<IPython.core.display.Latex object>"
      ],
      "text/latex": "$$\\Huge \\left(a - b\\right) + \\left(b - c\\right) > 0 + 0$$"
     },
     "metadata": {},
     "output_type": "display_data"
    },
    {
     "data": {
      "text/plain": [
       "<IPython.core.display.Latex object>"
      ],
      "text/latex": "$$\\Huge a - c > 0$$"
     },
     "metadata": {},
     "output_type": "display_data"
    },
    {
     "data": {
      "text/plain": [
       "<IPython.core.display.Latex object>"
      ],
      "text/latex": "$$\\Huge a > c$$"
     },
     "metadata": {},
     "output_type": "display_data"
    },
    {
     "data": {
      "text/plain": [
       "<IPython.core.display.Latex object>"
      ],
      "text/latex": "$$\\Huge \\text{True}$$"
     },
     "metadata": {},
     "output_type": "display_data"
    }
   ],
   "execution_count": 2
  },
  {
   "metadata": {},
   "cell_type": "markdown",
   "source": [
    "### Combinaciones\n",
    "Combinar:\n",
    "\n",
    "    a = b, b > c, c > d y d > e"
   ],
   "id": "568b28be9137b275"
  },
  {
   "metadata": {
    "ExecuteTime": {
     "end_time": "2025-03-11T04:22:05.134898Z",
     "start_time": "2025-03-11T04:22:05.083411Z"
    }
   },
   "cell_type": "code",
   "source": [
    "P = sp.Rel(a, b, \"==\")\n",
    "Q = sp.Rel(b, c, \">\")\n",
    "R = sp.Rel(c, d, \">\")\n",
    "S = sp.Rel(d, e, \">\")\n",
    "\n",
    "expression = P & Q & R & S\n",
    "print_latex(expression)\n",
    "print_latex(P & T)\n",
    "\n",
    "T1 = Q & R & S\n",
    "print_latex(T1, \"T\")\n",
    "T1 = transitive(transitive(Q, R), S)\n",
    "print_latex(T1, \"T\")\n",
    "\n",
    "expr = P & T\n",
    "print_latex(expr)\n",
    "\n",
    "expr = P & T1\n",
    "print_latex(expr)\n",
    "\n",
    "expr = expr.subs(b, a)\n",
    "print_latex(expr)"
   ],
   "id": "e1da0f976eabbf6d",
   "outputs": [
    {
     "data": {
      "text/plain": [
       "<IPython.core.display.Latex object>"
      ],
      "text/latex": "$$\\Huge a = b \\wedge b > c \\wedge c > d \\wedge d > e$$"
     },
     "metadata": {},
     "output_type": "display_data"
    },
    {
     "data": {
      "text/plain": [
       "<IPython.core.display.Latex object>"
      ],
      "text/latex": "$$\\Huge T \\wedge a = b$$"
     },
     "metadata": {},
     "output_type": "display_data"
    },
    {
     "data": {
      "text/plain": [
       "<IPython.core.display.Latex object>"
      ],
      "text/latex": "$$\\Huge T: b > c \\wedge c > d \\wedge d > e$$"
     },
     "metadata": {},
     "output_type": "display_data"
    },
    {
     "data": {
      "text/plain": [
       "<IPython.core.display.Latex object>"
      ],
      "text/latex": "$$\\Huge T: b > e$$"
     },
     "metadata": {},
     "output_type": "display_data"
    },
    {
     "data": {
      "text/plain": [
       "<IPython.core.display.Latex object>"
      ],
      "text/latex": "$$\\Huge T \\wedge a = b$$"
     },
     "metadata": {},
     "output_type": "display_data"
    },
    {
     "data": {
      "text/plain": [
       "<IPython.core.display.Latex object>"
      ],
      "text/latex": "$$\\Huge a = b \\wedge b > e$$"
     },
     "metadata": {},
     "output_type": "display_data"
    },
    {
     "data": {
      "text/plain": [
       "<IPython.core.display.Latex object>"
      ],
      "text/latex": "$$\\Huge a > e$$"
     },
     "metadata": {},
     "output_type": "display_data"
    }
   ],
   "execution_count": 3
  },
  {
   "metadata": {
    "ExecuteTime": {
     "end_time": "2025-03-11T04:22:05.141424Z",
     "start_time": "2025-03-11T04:22:05.140143Z"
    }
   },
   "cell_type": "code",
   "source": "",
   "id": "92b5a9590bdb3b6f",
   "outputs": [],
   "execution_count": null
  }
 ],
 "metadata": {
  "kernelspec": {
   "display_name": "Python 3",
   "language": "python",
   "name": "python3"
  },
  "language_info": {
   "codemirror_mode": {
    "name": "ipython",
    "version": 2
   },
   "file_extension": ".py",
   "mimetype": "text/x-python",
   "name": "python",
   "nbconvert_exporter": "python",
   "pygments_lexer": "ipython2",
   "version": "2.7.6"
  }
 },
 "nbformat": 4,
 "nbformat_minor": 5
}
